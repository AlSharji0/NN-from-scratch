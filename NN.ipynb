{
 "cells": [
  {
   "cell_type": "code",
   "execution_count": 1,
   "metadata": {},
   "outputs": [],
   "source": [
    "import numpy as np \n",
    "import matplotlib"
   ]
  },
  {
   "cell_type": "code",
   "execution_count": 2,
   "metadata": {},
   "outputs": [
    {
     "data": {
      "text/plain": [
       "array([[-1.48517036, -0.26020475, -1.42456537],\n",
       "       [-0.89139893,  0.76116335, -0.69875726],\n",
       "       [-0.39664965,  1.24378736,  0.07451846],\n",
       "       [-0.32294803,  1.46147163,  1.24182139]])"
      ]
     },
     "execution_count": 2,
     "metadata": {},
     "output_type": "execute_result"
    }
   ],
   "source": [
    "np.random.seed(300)\n",
    "inputs = np.random.randn(4, 3)\n",
    "inputs"
   ]
  },
  {
   "cell_type": "code",
   "execution_count": 3,
   "metadata": {},
   "outputs": [],
   "source": [
    "class LayerDense:\n",
    "    def __init__(self, n_inputs, n_neurons) -> None:\n",
    "        self.weights = np.random.randn(n_inputs, n_neurons)\n",
    "        self.biases = np.zeros(1, n_neurons)\n",
    "    \n",
    "    def forward(self, inputs):\n",
    "        self.outputs = np.dot(inputs, self.weights) + self.biases\n",
    "\n",
    "class ActReLU:\n",
    "    def __init__(self, inputs) -> None:\n",
    "        self.output = np.maximum(0, inputs)\n",
    "\n",
    "class SoftMax:\n",
    "    def forward(self, inputs):\n",
    "        exp_values = np.exp(inputs - np.max(inputs, axis=1, keepdims=True))\n",
    "        p = exp_values/np.sum(inputs, axis=1, keepdims=True)\n",
    "        self.output = p\n",
    "\n",
    "class Loss:\n",
    "    def calculate_data_loss(self, output, y):\n",
    "        sample_losses = self.forward\n",
    "        data_loss = np.mean(sample_losses)\n",
    "        return data_loss\n",
    "    \n",
    "class Loss_categoticalCrossentropy(Loss):\n",
    "    def forward(self, predictions, y_true):\n",
    "        n_inputs = len(predictions)\n",
    "        pclipped = np.clip(predictions, 1e-7, 1-1e-7)\n",
    "\n",
    "        if len(y_true.shape) == 1:\n",
    "            correct_p = pclipped[range(n_inputs, y_true)]\n",
    "        elif len(y_true.shape()) == 2:\n",
    "            correct_p = np.sum(pclipped*y_true, axis=1)\n",
    "\n",
    "        nlogp = -np.log(correct_p)\n",
    "        return nlogp\n",
    "\n"
   ]
  }
 ],
 "metadata": {
  "kernelspec": {
   "display_name": "Python 3",
   "language": "python",
   "name": "python3"
  },
  "language_info": {
   "codemirror_mode": {
    "name": "ipython",
    "version": 3
   },
   "file_extension": ".py",
   "mimetype": "text/x-python",
   "name": "python",
   "nbconvert_exporter": "python",
   "pygments_lexer": "ipython3",
   "version": "3.10.7"
  }
 },
 "nbformat": 4,
 "nbformat_minor": 2
}
