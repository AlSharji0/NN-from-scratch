{
 "cells": [
  {
   "cell_type": "code",
   "execution_count": 1,
   "metadata": {},
   "outputs": [],
   "source": [
    "import numpy as np \n",
    "import matplotlib\n",
    "import nnfs\n",
    "from nnfs.datasets import spiral_data"
   ]
  },
  {
   "cell_type": "code",
   "execution_count": 2,
   "metadata": {},
   "outputs": [],
   "source": [
    "nnfs.init()"
   ]
  },
  {
   "cell_type": "code",
   "execution_count": 3,
   "metadata": {},
   "outputs": [],
   "source": [
    "class DenseLayer:\n",
    "    def __init__(self, n_inputs, n_neurons) -> None:\n",
    "        self.weights = np.random.randn(n_inputs, n_neurons) #Arranged this way order to avoid having to transpose.\n",
    "        self.biases = np.zeros([1, n_neurons])\n",
    "    \n",
    "    def forward(self, inputs):\n",
    "        self.inputs = inputs\n",
    "        self.output = np.dot(inputs, self.weights) + self.biases\n",
    "\n",
    "    def backward(self, dvalues):\n",
    "        self.dweights = np.dot(self.inputs.T, dvalues) #Inputs first parameter to insure the dim of the output\n",
    "        self.dinputs = np.dot(dvalues, self.weights.T) #Same here\n",
    "        self.dbaises = np.sum(dvalues, axis=0, keepdims=True) #D of baises is always 1, simpler to use sum to perform chainrule.\n",
    "\n",
    "class ActReLU:\n",
    "    def forward(self, inputs):\n",
    "       self.output = np.maximum(0, inputs) \n",
    "\n",
    "    def forward(self, dvalues):\n",
    "        self.dinputs = dvalues.copy()\n",
    "        self.dinputs[self.dinputs <= 0] = 0\n",
    "        \n",
    "class SoftMax:\n",
    "    def forward(self, inputs):\n",
    "        exp_values = np.exp(inputs - np.max(inputs, axis=1, keepdims=True))\n",
    "        p = exp_values/np.sum(exp_values, axis=1, keepdims=True)\n",
    "        self.output = p\n",
    "\n",
    "class Loss:\n",
    "    def calculate_data_loss(self, output, y):\n",
    "        sample_losses = self.forward(output, y)\n",
    "        data_loss = np.mean(sample_losses)\n",
    "        return data_loss\n",
    "    \n",
    "class Loss_categoticalCrossentropy(Loss):\n",
    "    def forward(self, predictions, y_true):\n",
    "        n_inputs = len(predictions)\n",
    "        pclipped = np.clip(predictions, 1e-7, 1-1e-7) #Avoids errors harboured by 0.\n",
    "\n",
    "        if len(y_true.shape) == 1:\n",
    "            correct_p = pclipped[range(n_inputs), y_true]\n",
    "        elif len(y_true.shape) == 2: #Deals with one hot encoding.\n",
    "            correct_p = np.sum(pclipped*y_true, axis=1)\n",
    "\n",
    "        nlogp = -np.log(correct_p)\n",
    "        return nlogp\n",
    "\n"
   ]
  },
  {
   "cell_type": "code",
   "execution_count": 16,
   "metadata": {},
   "outputs": [
    {
     "data": {
      "text/plain": [
       "array([0, 0, 0, ..., 5, 5, 5], dtype=uint8)"
      ]
     },
     "execution_count": 16,
     "metadata": {},
     "output_type": "execute_result"
    }
   ],
   "source": [
    "X, y = spiral_data(samples=200, classes=6)\n",
    "\n",
    "layer1= DenseLayer(2, 12)\n",
    "layer2 = DenseLayer(12, 6)\n",
    "activation1 = ActReLU()\n",
    "activation2 = SoftMax()\n",
    "loss_func = Loss_categoticalCrossentropy()"
   ]
  },
  {
   "cell_type": "code",
   "execution_count": 5,
   "metadata": {},
   "outputs": [],
   "source": [
    "layer1.forward(X)\n",
    "activation1.forward(layer1.output)\n",
    "layer2.forward(activation1.output)\n",
    "activation2.forward(layer2.output)\n",
    "loss = loss_func.calculate_data_loss(activation2.output, y)"
   ]
  },
  {
   "cell_type": "code",
   "execution_count": 8,
   "metadata": {},
   "outputs": [
    {
     "name": "stdout",
     "output_type": "stream",
     "text": [
      "loss: 2.9486704\n",
      "[[0.16666667 0.16666667 0.16666667 0.16666667 0.16666667 0.16666667]\n",
      " [0.1667776  0.16400273 0.16693424 0.16734108 0.16667613 0.16826817]\n",
      " [0.16785693 0.16202044 0.1684566  0.16510753 0.16791017 0.16864832]\n",
      " [0.1715918  0.15899445 0.16614863 0.16362962 0.17484806 0.1647874 ]\n",
      " [0.1725753  0.15694186 0.16703677 0.16207029 0.1759652  0.16541064]]\n"
     ]
    }
   ],
   "source": [
    "print('loss:', loss)\n",
    "print(activation2.output[:5])"
   ]
  },
  {
   "cell_type": "code",
   "execution_count": 9,
   "metadata": {},
   "outputs": [
    {
     "data": {
      "text/plain": [
       "0.14833333333333334"
      ]
     },
     "execution_count": 9,
     "metadata": {},
     "output_type": "execute_result"
    }
   ],
   "source": [
    "predictions = np.argmax(activation2.output, axis=1)\n",
    "if len(y.shape) == 2:\n",
    "    y = np.argmax(y, axis=1)\n",
    "accuracy = np.mean(predictions==y)\n",
    "accuracy"
   ]
  }
 ],
 "metadata": {
  "kernelspec": {
   "display_name": "Python 3",
   "language": "python",
   "name": "python3"
  },
  "language_info": {
   "codemirror_mode": {
    "name": "ipython",
    "version": 3
   },
   "file_extension": ".py",
   "mimetype": "text/x-python",
   "name": "python",
   "nbconvert_exporter": "python",
   "pygments_lexer": "ipython3",
   "version": "3.10.7"
  }
 },
 "nbformat": 4,
 "nbformat_minor": 2
}
