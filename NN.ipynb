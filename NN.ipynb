{
 "cells": [
  {
   "cell_type": "code",
   "execution_count": 1,
   "metadata": {},
   "outputs": [],
   "source": [
    "import numpy as np \n",
    "import matplotlib\n",
    "import nnfs\n",
    "from nnfs.datasets import spiral_data"
   ]
  },
  {
   "cell_type": "code",
   "execution_count": 2,
   "metadata": {},
   "outputs": [],
   "source": [
    "nnfs.init()"
   ]
  },
  {
   "cell_type": "code",
   "execution_count": 13,
   "metadata": {},
   "outputs": [],
   "source": [
    "class DenseLayer:\n",
    "    def __init__(self, n_inputs, n_neurons) -> None:\n",
    "        self.weights = np.random.randn(n_inputs, n_neurons) #Arranged this way order to avoid having to transpose.\n",
    "        self.biases = np.zeros([1, n_neurons])\n",
    "    \n",
    "    def forward(self, inputs):\n",
    "        self.output = np.dot(inputs, self.weights) + self.biases\n",
    "\n",
    "class ActReLU:\n",
    "    def forward(self, inputs):\n",
    "       self.output = np.maximum(0, inputs) \n",
    "class SoftMax:\n",
    "    def forward(self, inputs):\n",
    "        exp_values = np.exp(inputs - np.max(inputs, axis=1, keepdims=True))\n",
    "        p = exp_values/np.sum(exp_values, axis=1, keepdims=True)\n",
    "        self.output = p\n",
    "\n",
    "class Loss:\n",
    "    def calculate_data_loss(self, output, y):\n",
    "        sample_losses = self.forward(output, y)\n",
    "        data_loss = np.mean(sample_losses)\n",
    "        return data_loss\n",
    "    \n",
    "class Loss_categoticalCrossentropy(Loss):\n",
    "    def forward(self, predictions, y_true):\n",
    "        n_inputs = len(predictions)\n",
    "        pclipped = np.clip(predictions, 1e-7, 1-1e-7) #Avoids errors harboured by 0.\n",
    "\n",
    "        if len(y_true.shape) == 1:\n",
    "            correct_p = pclipped[range(n_inputs), y_true]\n",
    "        elif len(y_true.shape()) == 2: #Deals with one hot encoding.\n",
    "            correct_p = np.sum(pclipped*y_true, axis=1)\n",
    "\n",
    "        nlogp = -np.log(correct_p)\n",
    "        return nlogp\n",
    "\n"
   ]
  },
  {
   "cell_type": "code",
   "execution_count": 14,
   "metadata": {},
   "outputs": [],
   "source": [
    "X, y = spiral_data(samples=200, classes=6)\n",
    "\n",
    "layer1= DenseLayer(2, 12)\n",
    "layer2 = DenseLayer(12, 6)\n",
    "activation1 = ActReLU()\n",
    "activation2 = SoftMax()\n",
    "loss_func = Loss_categoticalCrossentropy()\n"
   ]
  },
  {
   "cell_type": "code",
   "execution_count": 15,
   "metadata": {},
   "outputs": [],
   "source": [
    "layer1.forward(X)\n",
    "activation1.forward(layer1.output)\n",
    "layer2.forward(activation1.output)\n",
    "activation2.forward(layer2.output)\n",
    "loss = loss_func.calculate_data_loss(output=activation2.output, y=y)"
   ]
  }
 ],
 "metadata": {
  "kernelspec": {
   "display_name": "Python 3",
   "language": "python",
   "name": "python3"
  },
  "language_info": {
   "codemirror_mode": {
    "name": "ipython",
    "version": 3
   },
   "file_extension": ".py",
   "mimetype": "text/x-python",
   "name": "python",
   "nbconvert_exporter": "python",
   "pygments_lexer": "ipython3",
   "version": "3.10.7"
  }
 },
 "nbformat": 4,
 "nbformat_minor": 2
}
